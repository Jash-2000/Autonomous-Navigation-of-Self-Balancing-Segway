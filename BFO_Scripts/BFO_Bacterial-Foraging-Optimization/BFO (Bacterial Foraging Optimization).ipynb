{
 "cells": [
  {
   "cell_type": "code",
   "execution_count": 1,
   "metadata": {},
   "outputs": [
    {
     "data": {
      "text/plain": [
       "f_S (generic function with 1 method)"
      ]
     },
     "execution_count": 1,
     "metadata": {},
     "output_type": "execute_result"
    }
   ],
   "source": [
    "f_S(X) = sum(X.^2) ## S = sphere"
   ]
  },
  {
   "cell_type": "code",
   "execution_count": 6,
   "metadata": {},
   "outputs": [
    {
     "data": {
      "text/plain": [
       "30"
      ]
     },
     "execution_count": 6,
     "metadata": {},
     "output_type": "execute_result"
    }
   ],
   "source": [
    "XX = [1,2,3,4]\n",
    "f_S(XX)"
   ]
  },
  {
   "cell_type": "code",
   "execution_count": 4,
   "metadata": {
    "collapsed": true
   },
   "outputs": [],
   "source": [
    "## set the hyperparameters\n",
    "n = 2\n",
    "Range = [-10,10] ## exploration range: Range^n\n",
    "S = 10 ## number of bacteria\n",
    "Sr = 4 ## number of bacteria removed in reproductive step\n",
    "Nc = 20 ## chemotactic steps\n",
    "Ns = 5 ## swim steps\n",
    "Nre = 50 ## reproductive steps\n",
    "Ned = 10 ## elimination and dispersal steps\n",
    "Ped = 0.3 ## probability of elimination\n",
    "Ci = (Range[2]-Range[1])/S; ## run-length unit"
   ]
  },
  {
   "cell_type": "code",
   "execution_count": 5,
   "metadata": {
    "scrolled": true
   },
   "outputs": [
    {
     "data": {
      "text/plain": [
       "BFO (generic function with 10 methods)"
      ]
     },
     "execution_count": 5,
     "metadata": {},
     "output_type": "execute_result"
    }
   ],
   "source": [
    "using LinearAlgebra ## \"norm\"\n",
    "using StatsBase ## for function \"sample\"\n",
    "## This function computes the classical (non-adaptive) BFO (Bacterial Foraging Optimization)\n",
    "## Inputs:\n",
    "## J = a function with domain R^n\n",
    "## n = 2, dimension of the input of J\n",
    "## Range = [-10,10], exploration range: Range^n\n",
    "## S = 10, number of bacteria\n",
    "## Sr = number of bacteria removed in reproductive step\n",
    "## Nc = number of chemotactic steps\n",
    "## Ns = number of swim steps\n",
    "## Nre = number of reproductive steps\n",
    "## Ned = elimination and dispersal steps\n",
    "## Ped = probability of elimination\n",
    "## Ci = (Range[2]-Range[1])/S; ## run-length unit\n",
    "## Output: a dictionary that stores\n",
    "## (1) the minimum value of J\n",
    "## (2) the point achieving this minimu value\n",
    "## (3) the path of each bacterium (for plotting illustration)\n",
    "function BFO(J, Range, n = 2::Int, S = 10::Int, Sr = 4::Int, Nc = 20::Int, Ns = 5::Int, \n",
    "        Nre = 50::Int, Ned = 10::Int, Ped = 0.3::Float64, Ci = ((Range[2]-Range[1])/S)::Float64)\n",
    "    ## randomly generate S bacteria in Range^n\n",
    "    B_loc = (Range[2]-Range[1])*rand(n,S).+Range[1] ## B_loc = Bacteria locations\n",
    "    ## a dictionary recording the path of bacterium i\n",
    "    Path_Dict = Dict(i=>[zeros(n,0) B_loc[:,i]] for i=1:S)\n",
    "    for l = 1:Ned ## index of elimination-dispersal steps\n",
    "        for k = 1:Nre ## index of reproductive steps\n",
    "            for j = 1:Nc ## index of chemotactic steps\n",
    "                ## Chemotactic Step\n",
    "                for i = 1:S ## index of bacterium\n",
    "                    ## Tumble/Swim\n",
    "                    Path_i = copy(B_loc[:,i]) ## record the path of bacterium i\n",
    "                    m = 0 ## counter for swimming\n",
    "                    delta_i = randn(n) ## random \"tumble\" direction (uniform on (n-1)-sphere)\n",
    "                    while m<Ns\n",
    "                        J_last = J(B_loc[:,i]) ## last fitness value\n",
    "                        B_i_loc_new = B_loc[:,i] + Ci*delta_i/norm(delta_i) ## new location\n",
    "                        J_new = J(B_i_loc_new) ## new fitness value\n",
    "                        if J_new<J_last ## swim\n",
    "                            m = m+1\n",
    "                            J_last = copy(J_new)\n",
    "                            B_loc[:,i] = B_i_loc_new\n",
    "                            ## update the path of bacterium i\n",
    "                            Path_i = [Path_i B_i_loc_new]\n",
    "                        else\n",
    "                            m = Ns ## don't swim \n",
    "                        end\n",
    "                    end\n",
    "                    ## update the path of bacterium i\n",
    "                    if Path_Dict[i][:,end]!=B_loc[:,i]\n",
    "                        Path_Dict[i] = [Path_Dict[i] B_loc[:,i]]\n",
    "                    end\n",
    "                end\n",
    "            end\n",
    "            if k<Nre\n",
    "                ## Reproductive Step\n",
    "                ## (!!!) I define the health of a bacterium as the J value of its current location\n",
    "                Health = [J(B_loc[:,i]) for i=1:S]\n",
    "                Health_sort = sortslices([Health collect(1:S)], dims = 1) ## sort the bacteria according to health\n",
    "                B_survive = Array{Int,1}(Health_sort[1:S-Sr,2]) ## ## pick out the most healthy (S-Sr) bacteria\n",
    "                B_rep = sort([B_survive;B_survive[1:Sr]]) ## reproduce the most healthy Sr bacteria\n",
    "                B_loc = B_loc[:,B_rep]\n",
    "                \n",
    "                ## update the path dictionary\n",
    "                for i = 1:S\n",
    "                    if Path_Dict[i][:,end]!=B_loc[:,i]\n",
    "                        Path_Dict[i] = [Path_Dict[i] B_loc[:,i]]\n",
    "                    end\n",
    "                end\n",
    "            end\n",
    "        end\n",
    "        ## Elimination-Dispersal Step\n",
    "        if l<Ned\n",
    "            KillAlive = [sample([false, true], aweights([Ped,1-Ped])) for i=1:S] # true = alive, false = kill\n",
    "            N_kill = S - sum(KillAlive) ## number of kiilled bacteria\n",
    "            ## randomly generate a bacterium for each killed bacterium\n",
    "            Alive = findall(KillAlive)\n",
    "            Kill = setdiff(collect(1:S),Alive)\n",
    "            B_loc = sortslices([[Alive'; B_loc[:,Alive]] [Kill';(Range[2]-Range[1])*rand(n,length(Kill)).+Range[1]]], dims = 2)[2:n+1,:]\n",
    "            ## update the path dictionary\n",
    "            for i = 1:S\n",
    "                if Path_Dict[i][:,end]!=B_loc[:,i]\n",
    "                    Path_Dict[i] = [Path_Dict[i] B_loc[:,i]]\n",
    "                end\n",
    "            end\n",
    "        end\n",
    "    end\n",
    "    B_best = Int(sortslices([[J(B_loc[:,i]) for i=1:S] collect(1:S)], dims = 1)[1,2]) ## best bacterium\n",
    "    X_best = B_loc[:,B_best] ## best location for minimizing J\n",
    "    J_best = J(X_best) ## best (minimum) J value\n",
    "    return Dict(\"Minimum\"=>J_best, \"Minimum Point\"=>X_best, \"Path_Dict\"=>Path_Dict)\n",
    "end"
   ]
  },
  {
   "cell_type": "code",
   "execution_count": null,
   "metadata": {
    "collapsed": true
   },
   "outputs": [],
   "source": [
    "## Test the BFO function"
   ]
  },
  {
   "cell_type": "code",
   "execution_count": 3,
   "metadata": {},
   "outputs": [
    {
     "ename": "ErrorException",
     "evalue": "invalid redefinition of constant J",
     "output_type": "error",
     "traceback": [
      "invalid redefinition of constant J",
      "",
      "Stacktrace:",
      " [1] top-level scope at In[3]:1"
     ]
    }
   ],
   "source": [
    "J = f_S"
   ]
  },
  {
   "cell_type": "code",
   "execution_count": 6,
   "metadata": {},
   "outputs": [
    {
     "data": {
      "text/plain": [
       "Dict{String,Any} with 3 entries:\n",
       "  \"Path_Dict\"     => Dict(7=>[40.544 66.7072 … 4.02024 -0.528119; 91.5179 61.26…\n",
       "  \"Minimum Point\" => [-0.528119, 1.9503]\n",
       "  \"Minimum\"       => 4.08258"
      ]
     },
     "execution_count": 6,
     "metadata": {},
     "output_type": "execute_result"
    }
   ],
   "source": [
    "R = [-100,100]\n",
    "D = BFO(J,R)"
   ]
  },
  {
   "cell_type": "code",
   "execution_count": 7,
   "metadata": {},
   "outputs": [
    {
     "data": {
      "text/plain": [
       "2×23 Array{Float64,2}:\n",
       " -81.2735  -79.1994   -57.8633  -30.6383  …   9.48297  -10.4507   -0.528119\n",
       "  44.8392    4.89297  -28.9415   24.5262     -9.72234   -8.09522   1.9503  "
      ]
     },
     "execution_count": 7,
     "metadata": {},
     "output_type": "execute_result"
    }
   ],
   "source": [
    "D[\"Path_Dict\"][1]"
   ]
  },
  {
   "cell_type": "code",
   "execution_count": 16,
   "metadata": {},
   "outputs": [
    {
     "data": {
      "text/html": [
       "    <script type=\"text/javascript\">\n",
       "        requirejs([\"https://cdn.plot.ly/plotly-latest.min.js\"], function(p) {\n",
       "            window.Plotly = p\n",
       "        });\n",
       "    </script>\n"
      ]
     },
     "metadata": {},
     "output_type": "display_data"
    },
    {
     "data": {
      "application/vnd.plotly.v1+json": {
       "data": [
        {
         "colorbar": {
          "title": ""
         },
         "hoverinfo": "text",
         "legendgroup": "Bacterium 1",
         "marker": {
          "color": "rgba(0, 154, 250, 1.000)",
          "line": {
           "color": "rgba(0, 0, 0, 1.000)",
           "width": 1
          },
          "size": 8,
          "symbol": "circle"
         },
         "mode": "markers",
         "name": "Bacterium 1",
         "showlegend": true,
         "text": [
          null
         ],
         "type": "scatter",
         "x": [
          -81.27350968955129
         ],
         "xaxis": "x1",
         "y": [
          44.83916297914533
         ],
         "yaxis": "y1",
         "zmax": 0.1,
         "zmin": -0.1
        },
        {
         "colorbar": {
          "title": ""
         },
         "hoverinfo": "text",
         "legendgroup": "Bacterium 1",
         "line": {
          "color": "rgba(227, 111, 71, 1.000)",
          "dash": "solid",
          "shape": "linear",
          "width": 1
         },
         "mode": "lines",
         "name": "Bacterium 1",
         "showlegend": true,
         "text": [
          null,
          null,
          null,
          null,
          null,
          null,
          null,
          null,
          null,
          null,
          null,
          null,
          null,
          null,
          null,
          null,
          null,
          null,
          null,
          null,
          null,
          null,
          null
         ],
         "type": "scatter",
         "x": [
          -81.27350968955129,
          -79.19938914976954,
          -57.8633202112377,
          -30.638291425488845,
          -14.753478024767595,
          -0.963145777543998,
          -0.5281191582766169,
          -52.170821765039356,
          -5.180972611916975,
          -1.0606897434158382,
          -0.5281191582766169,
          76.57748143989664,
          20.85335561168039,
          43.54961204200652,
          8.617179034947057,
          -0.5281191582766169,
          14.49733511449196,
          -22.117964320076283,
          -12.147317778195244,
          -10.516242606916554,
          9.482968352053495,
          -10.450734084979901,
          -0.5281191582766169
         ],
         "xaxis": "x1",
         "y": [
          44.83916297914533,
          4.892973874470336,
          -28.94150797837051,
          24.526218807188148,
          -12.184443175732657,
          2.3009541785405414,
          1.9502988128932657,
          -76.15295824896937,
          12.119087589828336,
          -7.451892689236278,
          1.9502988128932657,
          34.977369316719546,
          57.22195968564124,
          24.284443931582317,
          4.797906932738684,
          1.9502988128932657,
          -75.88100787574757,
          -28.348704677639155,
          10.388695951944591,
          -9.54468293337333,
          -9.722337144165298,
          -8.095220936941962,
          1.9502988128932657
         ],
         "yaxis": "y1",
         "zmax": 0.1,
         "zmin": -0.1
        },
        {
         "colorbar": {
          "title": ""
         },
         "hoverinfo": "text",
         "legendgroup": "Bacterium 2",
         "marker": {
          "color": "rgba(62, 164, 78, 1.000)",
          "line": {
           "color": "rgba(0, 0, 0, 1.000)",
           "width": 1
          },
          "size": 8,
          "symbol": "circle"
         },
         "mode": "markers",
         "name": "Bacterium 2",
         "showlegend": true,
         "text": [
          null
         ],
         "type": "scatter",
         "x": [
          -39.24207996688867
         ],
         "xaxis": "x1",
         "y": [
          -36.85636517046436
         ],
         "yaxis": "y1",
         "zmax": 0.1,
         "zmin": -0.1
        },
        {
         "colorbar": {
          "title": ""
         },
         "hoverinfo": "text",
         "legendgroup": "Bacterium 2",
         "line": {
          "color": "rgba(195, 113, 210, 1.000)",
          "dash": "solid",
          "shape": "linear",
          "width": 1
         },
         "mode": "lines",
         "name": "Bacterium 2",
         "showlegend": true,
         "text": [
          null,
          null,
          null,
          null,
          null,
          null,
          null,
          null,
          null,
          null,
          null,
          null,
          null,
          null,
          null,
          null,
          null,
          null,
          null,
          null,
          null,
          null,
          null,
          null,
          null,
          null,
          null,
          null,
          null
         ],
         "type": "scatter",
         "x": [
          -39.24207996688867,
          0.6895596506953794,
          -5.541878239709887,
          -0.963145777543998,
          16.19348138851487,
          -9.103417530730328,
          -0.963145777543998,
          10.196816483678276,
          37.485305637431395,
          -1.5064560766773454,
          15.053165053358057,
          18.60675552935028,
          -0.5281191582766169,
          -0.963145777543998,
          -0.5281191582766169,
          -70.5856822091358,
          -10.893474352030644,
          -18.62375050229897,
          -1.1584789869879941,
          -0.5281191582766169,
          44.20587791228243,
          -13.826074053163818,
          5.905619160688033,
          24.725362563140592,
          -22.76112385587686,
          -2.890903478025823,
          13.550797977201917,
          -2.0488958193267397,
          -0.5281191582766169
         ],
         "xaxis": "x1",
         "y": [
          -36.85636517046436,
          -39.193918902764864,
          0.31771459697824156,
          2.3009541785405414,
          51.84512328046313,
          -2.5613736208214632,
          2.3009541785405414,
          71.53964883856739,
          18.10428265000742,
          27.028548358185517,
          15.813426957608305,
          -3.8683411217319605,
          1.9502988128932657,
          2.3009541785405414,
          1.9502988128932657,
          -46.35652390227145,
          -52.426146719560336,
          -13.180219151969421,
          -3.435256817692956,
          1.9502988128932657,
          84.77120597183139,
          69.53005932598684,
          66.2650504570199,
          59.496205779688076,
          22.821505950289737,
          20.546787915975738,
          9.159494415887055,
          -3.3564775181876367,
          1.9502988128932657
         ],
         "yaxis": "y1",
         "zmax": 0.1,
         "zmin": -0.1
        },
        {
         "colorbar": {
          "title": ""
         },
         "hoverinfo": "text",
         "legendgroup": "Bacterium 3",
         "marker": {
          "color": "rgba(172, 142, 24, 1.000)",
          "line": {
           "color": "rgba(0, 0, 0, 1.000)",
           "width": 1
          },
          "size": 8,
          "symbol": "circle"
         },
         "mode": "markers",
         "name": "Bacterium 3",
         "showlegend": true,
         "text": [
          null
         ],
         "type": "scatter",
         "x": [
          99.68922720469732
         ],
         "xaxis": "x1",
         "y": [
          -78.54967793499506
         ],
         "yaxis": "y1",
         "zmax": 0.1,
         "zmin": -0.1
        },
        {
         "colorbar": {
          "title": ""
         },
         "hoverinfo": "text",
         "legendgroup": "Bacterium 3",
         "line": {
          "color": "rgba(0, 170, 174, 1.000)",
          "dash": "solid",
          "shape": "linear",
          "width": 1
         },
         "mode": "lines",
         "name": "Bacterium 3",
         "showlegend": true,
         "text": [
          null,
          null,
          null,
          null,
          null,
          null,
          null,
          null,
          null,
          null,
          null,
          null,
          null,
          null,
          null,
          null,
          null,
          null,
          null,
          null,
          null,
          null,
          null,
          null,
          null,
          null,
          null,
          null,
          null,
          null,
          null,
          null,
          null,
          null,
          null,
          null,
          null,
          null,
          null,
          null,
          null
         ],
         "type": "scatter",
         "x": [
          99.68922720469732,
          66.55024194625756,
          73.68907983792073,
          21.691533600647873,
          1.3876376241612007,
          -5.541878239709887,
          -0.963145777543998,
          -4.764395971249201,
          -46.289592083552904,
          -8.161140638806316,
          24.035748948679547,
          6.125886331819565,
          -0.963145777543998,
          -75.71156868502777,
          -26.45324179401536,
          -14.622904031060937,
          -4.632520772061673,
          3.0319612985863014,
          -0.963145777543998,
          20.081196518612813,
          0.15936515761952563,
          -13.07888692376587,
          0.4074890950876835,
          -0.5281191582766169,
          -0.9467824200631583,
          35.31471655316401,
          18.95651394536388,
          31.70408263968779,
          13.528962364613939,
          -0.047854687310865174,
          -0.5281191582766169,
          -1.1584789869879941,
          -0.5281191582766169,
          -70.63363313525292,
          -38.609296444952264,
          0.6274989144081431,
          -12.889367133258645,
          7.110632752118118,
          0.35405147379866,
          -2.0488958193267397,
          -0.5281191582766169
         ],
         "xaxis": "x1",
         "y": [
          -78.54967793499506,
          -100.95074166065132,
          -1.2058821762821097,
          -31.143403538323284,
          3.3203717652619105,
          0.31771459697824156,
          2.3009541785405414,
          88.91701347113812,
          45.60814500479836,
          57.700340439276005,
          33.96512818214116,
          -1.8012921174247651,
          2.3009541785405414,
          -1.8491248004134206,
          32.40897251829597,
          -5.801537926009985,
          11.524518819202047,
          -6.948589056537642,
          2.3009541785405414,
          33.8988478547916,
          32.132315878249926,
          17.140695491190517,
          2.371888434488481,
          1.9502988128932657,
          90.30765900250404,
          18.99774600147279,
          30.504665982169662,
          15.093647444010248,
          23.440203798974814,
          8.754495142646244,
          1.9502988128932657,
          -3.435256817692956,
          1.9502988128932657,
          -21.010857180945663,
          -44.97837393897177,
          -37.201877946066375,
          -22.460971181235628,
          -22.458829936356626,
          -3.6346803027220957,
          -3.3564775181876367,
          1.9502988128932657
         ],
         "yaxis": "y1",
         "zmax": 0.1,
         "zmin": -0.1
        },
        {
         "colorbar": {
          "title": ""
         },
         "hoverinfo": "text",
         "legendgroup": "Bacterium 4",
         "marker": {
          "color": "rgba(237, 94, 147, 1.000)",
          "line": {
           "color": "rgba(0, 0, 0, 1.000)",
           "width": 1
          },
          "size": 8,
          "symbol": "circle"
         },
         "mode": "markers",
         "name": "Bacterium 4",
         "showlegend": true,
         "text": [
          null
         ],
         "type": "scatter",
         "x": [
          -39.81937129823115
         ],
         "xaxis": "x1",
         "y": [
          26.9536531575512
         ],
         "yaxis": "y1",
         "zmax": 0.1,
         "zmin": -0.1
        },
        {
         "colorbar": {
          "title": ""
         },
         "hoverinfo": "text",
         "legendgroup": "Bacterium 4",
         "line": {
          "color": "rgba(198, 130, 37, 1.000)",
          "dash": "solid",
          "shape": "linear",
          "width": 1
         },
         "mode": "lines",
         "name": "Bacterium 4",
         "showlegend": true,
         "text": [
          null,
          null,
          null,
          null,
          null,
          null,
          null,
          null,
          null,
          null,
          null,
          null,
          null,
          null,
          null,
          null
         ],
         "type": "scatter",
         "x": [
          -39.81937129823115,
          -22.86883460012468,
          -2.8802551292206395,
          -20.127575306069392,
          -0.2856643643459833,
          1.3876376241612007,
          -0.963145777543998,
          -0.5281191582766169,
          -3.941741180006545,
          0.4531177592598308,
          -0.5281191582766169,
          -16.06780952195281,
          -7.3972067245643025,
          -0.5281191582766169,
          0.35405147379866,
          -0.5281191582766169
         ],
         "xaxis": "x1",
         "y": [
          26.9536531575512,
          37.56870405927305,
          36.892915086772305,
          0.8023353364099393,
          3.3120305730307145,
          3.3203717652619105,
          2.3009541785405414,
          1.9502988128932657,
          -31.847993337283498,
          7.909838782991251,
          1.9502988128932657,
          -16.853850605069226,
          1.1689307321694464,
          1.9502988128932657,
          -3.6346803027220957,
          1.9502988128932657
         ],
         "yaxis": "y1",
         "zmax": 0.1,
         "zmin": -0.1
        },
        {
         "colorbar": {
          "title": ""
         },
         "hoverinfo": "text",
         "legendgroup": "Bacterium 5",
         "marker": {
          "color": "rgba(0, 169, 141, 1.000)",
          "line": {
           "color": "rgba(0, 0, 0, 1.000)",
           "width": 1
          },
          "size": 8,
          "symbol": "circle"
         },
         "mode": "markers",
         "name": "Bacterium 5",
         "showlegend": true,
         "text": [
          null
         ],
         "type": "scatter",
         "x": [
          35.39072112359
         ],
         "xaxis": "x1",
         "y": [
          -30.181536350294593
         ],
         "yaxis": "y1",
         "zmax": 0.1,
         "zmin": -0.1
        },
        {
         "colorbar": {
          "title": ""
         },
         "hoverinfo": "text",
         "legendgroup": "Bacterium 5",
         "line": {
          "color": "rgba(142, 151, 30, 1.000)",
          "dash": "solid",
          "shape": "linear",
          "width": 1
         },
         "mode": "lines",
         "name": "Bacterium 5",
         "showlegend": true,
         "text": [
          null,
          null,
          null,
          null,
          null,
          null,
          null,
          null,
          null,
          null,
          null,
          null,
          null,
          null,
          null,
          null,
          null,
          null,
          null
         ],
         "type": "scatter",
         "x": [
          35.39072112359,
          21.421575646850492,
          9.211286994469193,
          -7.831162706237224,
          1.3876376241612007,
          -0.963145777543998,
          0.4074890950876835,
          -0.5281191582766169,
          -19.196977264927767,
          -5.870828193821705,
          -3.126299664078615,
          6.7044057063953435,
          0.4531177592598308,
          -0.5281191582766169,
          -0.5709928651513394,
          26.004636361544055,
          13.71760621801909,
          -6.006703351308305,
          -0.5281191582766169
         ],
         "xaxis": "x1",
         "y": [
          -30.181536350294593,
          7.2999654159058665,
          -8.540137204517034,
          1.9267108501215642,
          3.3203717652619105,
          2.3009541785405414,
          2.371888434488481,
          1.9502988128932657,
          -28.028626850306892,
          9.686274063452103,
          -10.12452004353478,
          7.292633338086869,
          7.909838782991251,
          1.9502988128932657,
          58.20189893334978,
          28.30648237486689,
          -9.759629723062275,
          -6.450307736107891,
          1.9502988128932657
         ],
         "yaxis": "y1",
         "zmax": 0.1,
         "zmin": -0.1
        },
        {
         "colorbar": {
          "title": ""
         },
         "hoverinfo": "text",
         "legendgroup": "Bacterium 6",
         "marker": {
          "color": "rgba(0, 169, 204, 1.000)",
          "line": {
           "color": "rgba(0, 0, 0, 1.000)",
           "width": 1
          },
          "size": 8,
          "symbol": "circle"
         },
         "mode": "markers",
         "name": "Bacterium 6",
         "showlegend": true,
         "text": [
          null
         ],
         "type": "scatter",
         "x": [
          -3.3444884087367086
         ],
         "xaxis": "x1",
         "y": [
          -84.90164309297606
         ],
         "yaxis": "y1",
         "zmax": 0.1,
         "zmin": -0.1
        },
        {
         "colorbar": {
          "title": ""
         },
         "hoverinfo": "text",
         "legendgroup": "Bacterium 6",
         "line": {
          "color": "rgba(155, 127, 233, 1.000)",
          "dash": "solid",
          "shape": "linear",
          "width": 1
         },
         "mode": "lines",
         "name": "Bacterium 6",
         "showlegend": true,
         "text": [
          null,
          null,
          null,
          null,
          null,
          null,
          null,
          null,
          null,
          null,
          null,
          null,
          null,
          null,
          null,
          null,
          null,
          null,
          null,
          null,
          null,
          null,
          null,
          null,
          null,
          null,
          null,
          null,
          null,
          null,
          null,
          null,
          null,
          null,
          null,
          null,
          null,
          null,
          null,
          null,
          null,
          null,
          null
         ],
         "type": "scatter",
         "x": [
          -3.3444884087367086,
          -36.4327249450068,
          -1.2654990090957412,
          12.298035489453373,
          -7.462972199883325,
          -0.2856643643459833,
          1.3876376241612007,
          -0.963145777543998,
          95.50324143165017,
          36.17989069537384,
          45.35685894980336,
          9.499669201866766,
          13.877326698186447,
          -4.2472442409796685,
          -0.963145777543998,
          61.522965463480915,
          48.66053821731492,
          44.15545889095865,
          4.543203971459029,
          17.781656873762188,
          2.105645345449714,
          -13.276277498923204,
          4.126519968968719,
          -4.7399333777578985,
          -0.963145777543998,
          87.20313837485975,
          51.87150766082105,
          12.891737965081017,
          -2.3976702893829405,
          0.4074890950876835,
          -0.5281191582766169,
          31.82853310086756,
          58.86562160819615,
          29.915196629961184,
          24.65566974697764,
          5.356754827180314,
          -4.081287438163269,
          -0.5281191582766169,
          38.98230098823851,
          39.26629851133625,
          9.454019702854765,
          4.031742385049291,
          -0.5281191582766169
         ],
         "xaxis": "x1",
         "y": [
          -84.90164309297606,
          -34.84998375065413,
          -15.790439685472904,
          -1.0924625489187711,
          1.9901621609633806,
          3.3120305730307145,
          3.3203717652619105,
          2.3009541785405414,
          14.81095612635896,
          -38.86156996866233,
          -21.091278646987472,
          -38.81871341292219,
          0.9410164006079285,
          -7.514746620618192,
          2.3009541785405414,
          -71.38202009877537,
          7.577197003074655,
          -11.908804645884462,
          -17.464815822311174,
          -2.4733727712402995,
          -14.89362488479316,
          -2.1109628142478183,
          -11.967059419473165,
          5.96018256166605,
          2.3009541785405414,
          -83.39761850296203,
          10.152773645263608,
          19.129273768756406,
          6.236097463891518,
          2.371888434488481,
          1.9502988128932657,
          -91.41611584818321,
          -61.93738037586553,
          12.640584825523462,
          -6.655460804790884,
          -11.904449556771985,
          5.728569418933459,
          1.9502988128932657,
          14.500317148551247,
          -5.497666384967186,
          21.171192462860656,
          1.9202468058594846,
          1.9502988128932657
         ],
         "yaxis": "y1",
         "zmax": 0.1,
         "zmin": -0.1
        },
        {
         "colorbar": {
          "title": ""
         },
         "hoverinfo": "text",
         "legendgroup": "Bacterium 7",
         "marker": {
          "color": "rgba(97, 141, 246, 1.000)",
          "line": {
           "color": "rgba(0, 0, 0, 1.000)",
           "width": 1
          },
          "size": 8,
          "symbol": "circle"
         },
         "mode": "markers",
         "name": "Bacterium 7",
         "showlegend": true,
         "text": [
          null
         ],
         "type": "scatter",
         "x": [
          40.54404859926191
         ],
         "xaxis": "x1",
         "y": [
          91.51787823680681
         ],
         "yaxis": "y1",
         "zmax": 0.1,
         "zmin": -0.1
        },
        {
         "colorbar": {
          "title": ""
         },
         "hoverinfo": "text",
         "legendgroup": "Bacterium 7",
         "line": {
          "color": "rgba(240, 96, 115, 1.000)",
          "dash": "solid",
          "shape": "linear",
          "width": 1
         },
         "mode": "lines",
         "name": "Bacterium 7",
         "showlegend": true,
         "text": [
          null,
          null,
          null,
          null,
          null,
          null,
          null,
          null,
          null,
          null,
          null,
          null,
          null,
          null,
          null,
          null,
          null,
          null,
          null,
          null,
          null,
          null,
          null,
          null,
          null,
          null,
          null,
          null,
          null,
          null,
          null,
          null,
          null,
          null,
          null
         ],
         "type": "scatter",
         "x": [
          40.54404859926191,
          66.70719744663825,
          -12.861296233062433,
          23.218133654182488,
          36.92441848623678,
          -2.8985267795096945,
          -11.728627816756191,
          7.180487357592703,
          -0.2856643643459833,
          -0.963145777543998,
          -59.95154871908963,
          -78.18409195490412,
          -85.8107867042073,
          -38.92042027894733,
          -19.412951814262446,
          0.5383243165027594,
          33.750748391844375,
          18.653285788642727,
          0.30887322720447585,
          -9.124276847759402,
          -0.963145777543998,
          0.4074890950876835,
          -0.5281191582766169,
          -18.756911254436176,
          20.405232322203915,
          1.945209329569848,
          -0.5281191582766169,
          -84.76683913872533,
          -41.437562637328284,
          -53.950179475964674,
          4.902678736000091,
          11.535832922200488,
          -8.37063341053198,
          4.020244663664638,
          -0.5281191582766169
         ],
         "xaxis": "x1",
         "y": [
          91.51787823680681,
          61.26081885572964,
          52.9629387925188,
          35.69230652235052,
          21.12735694802661,
          17.36796466185052,
          -0.5772106137498341,
          5.937800001990434,
          3.3120305730307145,
          2.3009541785405414,
          -79.95066188269874,
          -44.34765123536506,
          -25.858910683316875,
          -63.29276616875748,
          -67.70396488331622,
          -66.30876570256865,
          -16.339426232853135,
          -29.456843011507672,
          -21.489250666530026,
          -3.8536140275195443,
          2.3009541785405414,
          2.371888434488481,
          1.9502988128932657,
          -59.05082858329078,
          -50.90671963985031,
          6.182925227773644,
          1.9502988128932657,
          15.483744084630274,
          56.98764508038587,
          41.38526001112568,
          29.70874168234411,
          10.84074588146234,
          12.772739189884657,
          -2.926500936643551,
          1.9502988128932657
         ],
         "yaxis": "y1",
         "zmax": 0.1,
         "zmin": -0.1
        },
        {
         "colorbar": {
          "title": ""
         },
         "hoverinfo": "text",
         "legendgroup": "Bacterium 8",
         "marker": {
          "color": "rgba(221, 101, 182, 1.000)",
          "line": {
           "color": "rgba(0, 0, 0, 1.000)",
           "width": 1
          },
          "size": 8,
          "symbol": "circle"
         },
         "mode": "markers",
         "name": "Bacterium 8",
         "showlegend": true,
         "text": [
          null
         ],
         "type": "scatter",
         "x": [
          -60.3616380786145
         ],
         "xaxis": "x1",
         "y": [
          16.430936269267832
         ],
         "yaxis": "y1",
         "zmax": 0.1,
         "zmin": -0.1
        },
        {
         "colorbar": {
          "title": ""
         },
         "hoverinfo": "text",
         "legendgroup": "Bacterium 8",
         "line": {
          "color": "rgba(108, 159, 51, 1.000)",
          "dash": "solid",
          "shape": "linear",
          "width": 1
         },
         "mode": "lines",
         "name": "Bacterium 8",
         "showlegend": true,
         "text": [
          null,
          null,
          null,
          null,
          null,
          null,
          null,
          null,
          null,
          null,
          null,
          null,
          null,
          null,
          null,
          null,
          null,
          null,
          null
         ],
         "type": "scatter",
         "x": [
          -60.3616380786145,
          -3.9917768948661703,
          -0.2856643643459833,
          -0.963145777543998,
          91.57278479111702,
          22.74768458816729,
          13.583946980280118,
          0.49707796921227043,
          -9.519649187721392,
          8.25296949209146,
          -0.963145777543998,
          0.4074890950876835,
          -0.5281191582766169,
          -15.20067061468606,
          -43.777972653480504,
          -50.38121945948424,
          -37.437625455008266,
          -22.568637098405503,
          -0.5281191582766169
         ],
         "xaxis": "x1",
         "y": [
          16.430936269267832,
          -4.122378551581438,
          3.3120305730307145,
          2.3009541785405414,
          16.009468409713804,
          56.79065993293845,
          -2.5054268945562796,
          12.618522969389716,
          -4.69231690230766,
          4.480143250888277,
          2.3009541785405414,
          2.371888434488481,
          1.9502988128932657,
          -64.02436196395867,
          -36.03618931579325,
          -17.157706018160425,
          -32.40445564709096,
          4.729264678930932,
          1.9502988128932657
         ],
         "yaxis": "y1",
         "zmax": 0.1,
         "zmin": -0.1
        },
        {
         "colorbar": {
          "title": ""
         },
         "hoverinfo": "text",
         "legendgroup": "Bacterium 9",
         "marker": {
          "color": "rgba(113, 140, 106, 1.000)",
          "line": {
           "color": "rgba(0, 0, 0, 1.000)",
           "width": 1
          },
          "size": 8,
          "symbol": "circle"
         },
         "mode": "markers",
         "name": "Bacterium 9",
         "showlegend": true,
         "text": [
          null
         ],
         "type": "scatter",
         "x": [
          -38.57530388866959
         ],
         "xaxis": "x1",
         "y": [
          -93.04160778622364
         ],
         "yaxis": "y1",
         "zmax": 0.1,
         "zmin": -0.1
        },
        {
         "colorbar": {
          "title": ""
         },
         "hoverinfo": "text",
         "legendgroup": "Bacterium 9",
         "line": {
          "color": "rgba(71, 153, 140, 1.000)",
          "dash": "solid",
          "shape": "linear",
          "width": 1
         },
         "mode": "lines",
         "name": "Bacterium 9",
         "showlegend": true,
         "text": [
          null,
          null,
          null,
          null,
          null,
          null,
          null,
          null,
          null,
          null,
          null,
          null,
          null,
          null,
          null,
          null,
          null,
          null,
          null,
          null,
          null,
          null,
          null,
          null,
          null,
          null,
          null,
          null,
          null,
          null,
          null
         ],
         "type": "scatter",
         "x": [
          -38.57530388866959,
          25.180653965413498,
          -3.959468726424017,
          -4.225258288081289,
          -0.2856643643459833,
          -0.963145777543998,
          69.62889164985035,
          82.81712260725658,
          54.14672591225943,
          4.7105543879865195,
          5.432862147682545,
          -0.963145777543998,
          0.4074890950876835,
          -0.5281191582766169,
          -8.687033075453911,
          -0.5281191582766169,
          -84.33879465931598,
          -5.440581980844634,
          14.29667407994246,
          -18.868778179205368,
          -28.202669470373877,
          -24.733380407596982,
          -27.147043263845273,
          -7.2087910065339,
          6.878853848210504,
          -0.5281191582766169,
          -29.8013438969476,
          7.757931103116995,
          12.796695121594418,
          1.9913661216321916,
          -0.5281191582766169
         ],
         "xaxis": "x1",
         "y": [
          -93.04160778622364,
          -44.717929965631555,
          -17.316228385170234,
          2.682005434567799,
          3.3120305730307145,
          2.3009541785405414,
          58.09881816574239,
          20.33546868222713,
          48.22826978486823,
          -14.668987269972153,
          5.317965261624128,
          2.3009541785405414,
          2.371888434488481,
          1.9502988128932657,
          -2.9257228451712933,
          1.9502988128932657,
          56.58005107216968,
          69.81153005763093,
          66.58031926430236,
          44.21845940323118,
          5.322720904461825,
          -14.374081714209478,
          5.479739872990486,
          7.050121012656234,
          -7.146296227147388,
          1.9502988128932657,
          45.815209206075906,
          32.05654424651232,
          -7.624822377711915,
          9.205057752656671,
          1.9502988128932657
         ],
         "yaxis": "y1",
         "zmax": 0.1,
         "zmin": -0.1
        },
        {
         "colorbar": {
          "title": ""
         },
         "hoverinfo": "text",
         "legendgroup": "Bacterium 10",
         "marker": {
          "color": "rgba(31, 166, 141, 1.000)",
          "line": {
           "color": "rgba(0, 0, 0, 1.000)",
           "width": 1
          },
          "size": 8,
          "symbol": "circle"
         },
         "mode": "markers",
         "name": "Bacterium 10",
         "showlegend": true,
         "text": [
          null
         ],
         "type": "scatter",
         "x": [
          53.39333546194496
         ],
         "xaxis": "x1",
         "y": [
          -58.515366378805744
         ],
         "yaxis": "y1",
         "zmax": 0.1,
         "zmin": -0.1
        },
        {
         "colorbar": {
          "title": ""
         },
         "hoverinfo": "text",
         "legendgroup": "Bacterium 10",
         "line": {
          "color": "rgba(175, 120, 221, 1.000)",
          "dash": "solid",
          "shape": "linear",
          "width": 1
         },
         "mode": "lines",
         "name": "Bacterium 10",
         "showlegend": true,
         "text": [
          null,
          null,
          null,
          null,
          null,
          null,
          null,
          null,
          null,
          null,
          null,
          null,
          null,
          null,
          null,
          null,
          null,
          null,
          null,
          null,
          null,
          null,
          null,
          null,
          null,
          null,
          null,
          null,
          null,
          null
         ],
         "type": "scatter",
         "x": [
          53.39333546194496,
          -6.606384027757983,
          25.905131083811014,
          14.676525511529645,
          4.527637602482491,
          -4.225258288081289,
          -0.2856643643459833,
          -0.963145777543998,
          0.4074890950876835,
          -0.5281191582766169,
          -80.9519299001198,
          -1.2709393712053512,
          -6.088521060956086,
          -0.5281191582766169,
          -32.516567757635954,
          13.634176138603504,
          8.690769162152634,
          -0.5281191582766169,
          -78.96895037545363,
          -24.327093195022314,
          -28.96233393613749,
          10.679056978100114,
          -6.700958263243113,
          -0.5281191582766169,
          -23.231939124191214,
          -3.241281643838704,
          14.817451142633839,
          -19.562608958943247,
          -0.9946554419390878,
          -0.5281191582766169
         ],
         "xaxis": "x1",
         "y": [
          -58.515366378805744,
          -58.33189660756157,
          -7.903716141177291,
          8.646764725013025,
          -8.586925367639694,
          2.682005434567799,
          3.3120305730307145,
          2.3009541785405414,
          2.371888434488481,
          1.9502988128932657,
          52.80567254386264,
          45.668463822587455,
          5.959637263967295,
          1.9502988128932657,
          -57.87605935468649,
          -19.53406100009213,
          -0.15462015508380844,
          1.9502988128932657,
          -27.475934826319076,
          30.95579836612822,
          11.50034814589672,
          6.156180634992872,
          -3.740034308644777,
          1.9502988128932657,
          44.797840107865994,
          45.409079425340195,
          36.81360560787199,
          16.368276864808266,
          8.936513804109083,
          1.9502988128932657
         ],
         "yaxis": "y1",
         "zmax": 0.1,
         "zmin": -0.1
        }
       ],
       "layout": {
        "annotations": [],
        "height": 400,
        "legend": {
         "bgcolor": "rgba(255, 255, 255, 1.000)",
         "bordercolor": "rgba(0, 0, 0, 1.000)",
         "font": {
          "color": "rgba(0, 0, 0, 1.000)",
          "family": "sans-serif",
          "size": 11
         },
         "tracegroupgap": 0,
         "x": 1,
         "y": 1
        },
        "margin": {
         "b": 20,
         "l": 0,
         "r": 0,
         "t": 20
        },
        "paper_bgcolor": "rgba(255, 255, 255, 1.000)",
        "plot_bgcolor": "rgba(255, 255, 255, 1.000)",
        "showlegend": true,
        "width": 600,
        "xaxis": {
         "anchor": "y1",
         "domain": [
          0.0658209390492855,
          0.9934383202099738
         ],
         "gridcolor": "rgba(0, 0, 0, 0.100)",
         "gridwidth": 0.5,
         "linecolor": "rgba(0, 0, 0, 1.000)",
         "mirror": false,
         "range": [
          -106,
          106
         ],
         "showgrid": true,
         "showline": true,
         "showticklabels": true,
         "tickangle": 0,
         "tickcolor": "rgb(0, 0, 0)",
         "tickfont": {
          "color": "rgba(0, 0, 0, 1.000)",
          "family": "sans-serif",
          "size": 11
         },
         "tickmode": "array",
         "ticks": "inside",
         "ticktext": [
          "-100",
          "-50",
          "0",
          "50",
          "100"
         ],
         "tickvals": [
          -100,
          -50,
          0,
          50,
          100
         ],
         "title": "",
         "titlefont": {
          "color": "rgba(0, 0, 0, 1.000)",
          "family": "sans-serif",
          "size": 15
         },
         "type": "-",
         "visible": true,
         "zeroline": false,
         "zerolinecolor": "rgba(0, 0, 0, 1.000)"
        },
        "yaxis": {
         "anchor": "x1",
         "domain": [
          0.03762029746281716,
          0.9901574803149606
         ],
         "gridcolor": "rgba(0, 0, 0, 0.100)",
         "gridwidth": 0.5,
         "linecolor": "rgba(0, 0, 0, 1.000)",
         "mirror": false,
         "range": [
          -106,
          106
         ],
         "showgrid": true,
         "showline": true,
         "showticklabels": true,
         "tickangle": 0,
         "tickcolor": "rgb(0, 0, 0)",
         "tickfont": {
          "color": "rgba(0, 0, 0, 1.000)",
          "family": "sans-serif",
          "size": 11
         },
         "tickmode": "array",
         "ticks": "inside",
         "ticktext": [
          "-100",
          "-50",
          "0",
          "50",
          "100"
         ],
         "tickvals": [
          -100,
          -50,
          0,
          50,
          100
         ],
         "title": "",
         "titlefont": {
          "color": "rgba(0, 0, 0, 1.000)",
          "family": "sans-serif",
          "size": 15
         },
         "type": "-",
         "visible": true,
         "zeroline": false,
         "zerolinecolor": "rgba(0, 0, 0, 1.000)"
        }
       }
      },
      "text/html": [
       "    <div id=\"8b903cea-5811-4346-ac60-8af41e80ca08\" style=\"width:600px;height:400px;\"></div>\n",
       "    <script>\n",
       "    PLOT = document.getElementById('8b903cea-5811-4346-ac60-8af41e80ca08');\n",
       "    Plotly.plot(PLOT, [{\"xaxis\":\"x1\",\"colorbar\":{\"title\":\"\"},\"yaxis\":\"y1\",\"text\":[null],\"x\":[-81.27350968955129],\"showlegend\":true,\"mode\":\"markers\",\"name\":\"Bacterium 1\",\"zmin\":-0.1,\"legendgroup\":\"Bacterium 1\",\"marker\":{\"symbol\":\"circle\",\"color\":\"rgba(0, 154, 250, 1.000)\",\"line\":{\"color\":\"rgba(0, 0, 0, 1.000)\",\"width\":1},\"size\":8},\"zmax\":0.1,\"y\":[44.83916297914533],\"type\":\"scatter\",\"hoverinfo\":\"text\"},{\"xaxis\":\"x1\",\"colorbar\":{\"title\":\"\"},\"yaxis\":\"y1\",\"text\":[null,null,null,null,null,null,null,null,null,null,null,null,null,null,null,null,null,null,null,null,null,null,null],\"x\":[-81.27350968955129,-79.19938914976954,-57.8633202112377,-30.638291425488845,-14.753478024767595,-0.963145777543998,-0.5281191582766169,-52.170821765039356,-5.180972611916975,-1.0606897434158382,-0.5281191582766169,76.57748143989664,20.85335561168039,43.54961204200652,8.617179034947057,-0.5281191582766169,14.49733511449196,-22.117964320076283,-12.147317778195244,-10.516242606916554,9.482968352053495,-10.450734084979901,-0.5281191582766169],\"showlegend\":true,\"mode\":\"lines\",\"name\":\"Bacterium 1\",\"zmin\":-0.1,\"legendgroup\":\"Bacterium 1\",\"zmax\":0.1,\"line\":{\"color\":\"rgba(227, 111, 71, 1.000)\",\"shape\":\"linear\",\"dash\":\"solid\",\"width\":1},\"y\":[44.83916297914533,4.892973874470336,-28.94150797837051,24.526218807188148,-12.184443175732657,2.3009541785405414,1.9502988128932657,-76.15295824896937,12.119087589828336,-7.451892689236278,1.9502988128932657,34.977369316719546,57.22195968564124,24.284443931582317,4.797906932738684,1.9502988128932657,-75.88100787574757,-28.348704677639155,10.388695951944591,-9.54468293337333,-9.722337144165298,-8.095220936941962,1.9502988128932657],\"type\":\"scatter\",\"hoverinfo\":\"text\"},{\"xaxis\":\"x1\",\"colorbar\":{\"title\":\"\"},\"yaxis\":\"y1\",\"text\":[null],\"x\":[-39.24207996688867],\"showlegend\":true,\"mode\":\"markers\",\"name\":\"Bacterium 2\",\"zmin\":-0.1,\"legendgroup\":\"Bacterium 2\",\"marker\":{\"symbol\":\"circle\",\"color\":\"rgba(62, 164, 78, 1.000)\",\"line\":{\"color\":\"rgba(0, 0, 0, 1.000)\",\"width\":1},\"size\":8},\"zmax\":0.1,\"y\":[-36.85636517046436],\"type\":\"scatter\",\"hoverinfo\":\"text\"},{\"xaxis\":\"x1\",\"colorbar\":{\"title\":\"\"},\"yaxis\":\"y1\",\"text\":[null,null,null,null,null,null,null,null,null,null,null,null,null,null,null,null,null,null,null,null,null,null,null,null,null,null,null,null,null],\"x\":[-39.24207996688867,0.6895596506953794,-5.541878239709887,-0.963145777543998,16.19348138851487,-9.103417530730328,-0.963145777543998,10.196816483678276,37.485305637431395,-1.5064560766773454,15.053165053358057,18.60675552935028,-0.5281191582766169,-0.963145777543998,-0.5281191582766169,-70.5856822091358,-10.893474352030644,-18.62375050229897,-1.1584789869879941,-0.5281191582766169,44.20587791228243,-13.826074053163818,5.905619160688033,24.725362563140592,-22.76112385587686,-2.890903478025823,13.550797977201917,-2.0488958193267397,-0.5281191582766169],\"showlegend\":true,\"mode\":\"lines\",\"name\":\"Bacterium 2\",\"zmin\":-0.1,\"legendgroup\":\"Bacterium 2\",\"zmax\":0.1,\"line\":{\"color\":\"rgba(195, 113, 210, 1.000)\",\"shape\":\"linear\",\"dash\":\"solid\",\"width\":1},\"y\":[-36.85636517046436,-39.193918902764864,0.31771459697824156,2.3009541785405414,51.84512328046313,-2.5613736208214632,2.3009541785405414,71.53964883856739,18.10428265000742,27.028548358185517,15.813426957608305,-3.8683411217319605,1.9502988128932657,2.3009541785405414,1.9502988128932657,-46.35652390227145,-52.426146719560336,-13.180219151969421,-3.435256817692956,1.9502988128932657,84.77120597183139,69.53005932598684,66.2650504570199,59.496205779688076,22.821505950289737,20.546787915975738,9.159494415887055,-3.3564775181876367,1.9502988128932657],\"type\":\"scatter\",\"hoverinfo\":\"text\"},{\"xaxis\":\"x1\",\"colorbar\":{\"title\":\"\"},\"yaxis\":\"y1\",\"text\":[null],\"x\":[99.68922720469732],\"showlegend\":true,\"mode\":\"markers\",\"name\":\"Bacterium 3\",\"zmin\":-0.1,\"legendgroup\":\"Bacterium 3\",\"marker\":{\"symbol\":\"circle\",\"color\":\"rgba(172, 142, 24, 1.000)\",\"line\":{\"color\":\"rgba(0, 0, 0, 1.000)\",\"width\":1},\"size\":8},\"zmax\":0.1,\"y\":[-78.54967793499506],\"type\":\"scatter\",\"hoverinfo\":\"text\"},{\"xaxis\":\"x1\",\"colorbar\":{\"title\":\"\"},\"yaxis\":\"y1\",\"text\":[null,null,null,null,null,null,null,null,null,null,null,null,null,null,null,null,null,null,null,null,null,null,null,null,null,null,null,null,null,null,null,null,null,null,null,null,null,null,null,null,null],\"x\":[99.68922720469732,66.55024194625756,73.68907983792073,21.691533600647873,1.3876376241612007,-5.541878239709887,-0.963145777543998,-4.764395971249201,-46.289592083552904,-8.161140638806316,24.035748948679547,6.125886331819565,-0.963145777543998,-75.71156868502777,-26.45324179401536,-14.622904031060937,-4.632520772061673,3.0319612985863014,-0.963145777543998,20.081196518612813,0.15936515761952563,-13.07888692376587,0.4074890950876835,-0.5281191582766169,-0.9467824200631583,35.31471655316401,18.95651394536388,31.70408263968779,13.528962364613939,-0.047854687310865174,-0.5281191582766169,-1.1584789869879941,-0.5281191582766169,-70.63363313525292,-38.609296444952264,0.6274989144081431,-12.889367133258645,7.110632752118118,0.35405147379866,-2.0488958193267397,-0.5281191582766169],\"showlegend\":true,\"mode\":\"lines\",\"name\":\"Bacterium 3\",\"zmin\":-0.1,\"legendgroup\":\"Bacterium 3\",\"zmax\":0.1,\"line\":{\"color\":\"rgba(0, 170, 174, 1.000)\",\"shape\":\"linear\",\"dash\":\"solid\",\"width\":1},\"y\":[-78.54967793499506,-100.95074166065132,-1.2058821762821097,-31.143403538323284,3.3203717652619105,0.31771459697824156,2.3009541785405414,88.91701347113812,45.60814500479836,57.700340439276005,33.96512818214116,-1.8012921174247651,2.3009541785405414,-1.8491248004134206,32.40897251829597,-5.801537926009985,11.524518819202047,-6.948589056537642,2.3009541785405414,33.8988478547916,32.132315878249926,17.140695491190517,2.371888434488481,1.9502988128932657,90.30765900250404,18.99774600147279,30.504665982169662,15.093647444010248,23.440203798974814,8.754495142646244,1.9502988128932657,-3.435256817692956,1.9502988128932657,-21.010857180945663,-44.97837393897177,-37.201877946066375,-22.460971181235628,-22.458829936356626,-3.6346803027220957,-3.3564775181876367,1.9502988128932657],\"type\":\"scatter\",\"hoverinfo\":\"text\"},{\"xaxis\":\"x1\",\"colorbar\":{\"title\":\"\"},\"yaxis\":\"y1\",\"text\":[null],\"x\":[-39.81937129823115],\"showlegend\":true,\"mode\":\"markers\",\"name\":\"Bacterium 4\",\"zmin\":-0.1,\"legendgroup\":\"Bacterium 4\",\"marker\":{\"symbol\":\"circle\",\"color\":\"rgba(237, 94, 147, 1.000)\",\"line\":{\"color\":\"rgba(0, 0, 0, 1.000)\",\"width\":1},\"size\":8},\"zmax\":0.1,\"y\":[26.9536531575512],\"type\":\"scatter\",\"hoverinfo\":\"text\"},{\"xaxis\":\"x1\",\"colorbar\":{\"title\":\"\"},\"yaxis\":\"y1\",\"text\":[null,null,null,null,null,null,null,null,null,null,null,null,null,null,null,null],\"x\":[-39.81937129823115,-22.86883460012468,-2.8802551292206395,-20.127575306069392,-0.2856643643459833,1.3876376241612007,-0.963145777543998,-0.5281191582766169,-3.941741180006545,0.4531177592598308,-0.5281191582766169,-16.06780952195281,-7.3972067245643025,-0.5281191582766169,0.35405147379866,-0.5281191582766169],\"showlegend\":true,\"mode\":\"lines\",\"name\":\"Bacterium 4\",\"zmin\":-0.1,\"legendgroup\":\"Bacterium 4\",\"zmax\":0.1,\"line\":{\"color\":\"rgba(198, 130, 37, 1.000)\",\"shape\":\"linear\",\"dash\":\"solid\",\"width\":1},\"y\":[26.9536531575512,37.56870405927305,36.892915086772305,0.8023353364099393,3.3120305730307145,3.3203717652619105,2.3009541785405414,1.9502988128932657,-31.847993337283498,7.909838782991251,1.9502988128932657,-16.853850605069226,1.1689307321694464,1.9502988128932657,-3.6346803027220957,1.9502988128932657],\"type\":\"scatter\",\"hoverinfo\":\"text\"},{\"xaxis\":\"x1\",\"colorbar\":{\"title\":\"\"},\"yaxis\":\"y1\",\"text\":[null],\"x\":[35.39072112359],\"showlegend\":true,\"mode\":\"markers\",\"name\":\"Bacterium 5\",\"zmin\":-0.1,\"legendgroup\":\"Bacterium 5\",\"marker\":{\"symbol\":\"circle\",\"color\":\"rgba(0, 169, 141, 1.000)\",\"line\":{\"color\":\"rgba(0, 0, 0, 1.000)\",\"width\":1},\"size\":8},\"zmax\":0.1,\"y\":[-30.181536350294593],\"type\":\"scatter\",\"hoverinfo\":\"text\"},{\"xaxis\":\"x1\",\"colorbar\":{\"title\":\"\"},\"yaxis\":\"y1\",\"text\":[null,null,null,null,null,null,null,null,null,null,null,null,null,null,null,null,null,null,null],\"x\":[35.39072112359,21.421575646850492,9.211286994469193,-7.831162706237224,1.3876376241612007,-0.963145777543998,0.4074890950876835,-0.5281191582766169,-19.196977264927767,-5.870828193821705,-3.126299664078615,6.7044057063953435,0.4531177592598308,-0.5281191582766169,-0.5709928651513394,26.004636361544055,13.71760621801909,-6.006703351308305,-0.5281191582766169],\"showlegend\":true,\"mode\":\"lines\",\"name\":\"Bacterium 5\",\"zmin\":-0.1,\"legendgroup\":\"Bacterium 5\",\"zmax\":0.1,\"line\":{\"color\":\"rgba(142, 151, 30, 1.000)\",\"shape\":\"linear\",\"dash\":\"solid\",\"width\":1},\"y\":[-30.181536350294593,7.2999654159058665,-8.540137204517034,1.9267108501215642,3.3203717652619105,2.3009541785405414,2.371888434488481,1.9502988128932657,-28.028626850306892,9.686274063452103,-10.12452004353478,7.292633338086869,7.909838782991251,1.9502988128932657,58.20189893334978,28.30648237486689,-9.759629723062275,-6.450307736107891,1.9502988128932657],\"type\":\"scatter\",\"hoverinfo\":\"text\"},{\"xaxis\":\"x1\",\"colorbar\":{\"title\":\"\"},\"yaxis\":\"y1\",\"text\":[null],\"x\":[-3.3444884087367086],\"showlegend\":true,\"mode\":\"markers\",\"name\":\"Bacterium 6\",\"zmin\":-0.1,\"legendgroup\":\"Bacterium 6\",\"marker\":{\"symbol\":\"circle\",\"color\":\"rgba(0, 169, 204, 1.000)\",\"line\":{\"color\":\"rgba(0, 0, 0, 1.000)\",\"width\":1},\"size\":8},\"zmax\":0.1,\"y\":[-84.90164309297606],\"type\":\"scatter\",\"hoverinfo\":\"text\"},{\"xaxis\":\"x1\",\"colorbar\":{\"title\":\"\"},\"yaxis\":\"y1\",\"text\":[null,null,null,null,null,null,null,null,null,null,null,null,null,null,null,null,null,null,null,null,null,null,null,null,null,null,null,null,null,null,null,null,null,null,null,null,null,null,null,null,null,null,null],\"x\":[-3.3444884087367086,-36.4327249450068,-1.2654990090957412,12.298035489453373,-7.462972199883325,-0.2856643643459833,1.3876376241612007,-0.963145777543998,95.50324143165017,36.17989069537384,45.35685894980336,9.499669201866766,13.877326698186447,-4.2472442409796685,-0.963145777543998,61.522965463480915,48.66053821731492,44.15545889095865,4.543203971459029,17.781656873762188,2.105645345449714,-13.276277498923204,4.126519968968719,-4.7399333777578985,-0.963145777543998,87.20313837485975,51.87150766082105,12.891737965081017,-2.3976702893829405,0.4074890950876835,-0.5281191582766169,31.82853310086756,58.86562160819615,29.915196629961184,24.65566974697764,5.356754827180314,-4.081287438163269,-0.5281191582766169,38.98230098823851,39.26629851133625,9.454019702854765,4.031742385049291,-0.5281191582766169],\"showlegend\":true,\"mode\":\"lines\",\"name\":\"Bacterium 6\",\"zmin\":-0.1,\"legendgroup\":\"Bacterium 6\",\"zmax\":0.1,\"line\":{\"color\":\"rgba(155, 127, 233, 1.000)\",\"shape\":\"linear\",\"dash\":\"solid\",\"width\":1},\"y\":[-84.90164309297606,-34.84998375065413,-15.790439685472904,-1.0924625489187711,1.9901621609633806,3.3120305730307145,3.3203717652619105,2.3009541785405414,14.81095612635896,-38.86156996866233,-21.091278646987472,-38.81871341292219,0.9410164006079285,-7.514746620618192,2.3009541785405414,-71.38202009877537,7.577197003074655,-11.908804645884462,-17.464815822311174,-2.4733727712402995,-14.89362488479316,-2.1109628142478183,-11.967059419473165,5.96018256166605,2.3009541785405414,-83.39761850296203,10.152773645263608,19.129273768756406,6.236097463891518,2.371888434488481,1.9502988128932657,-91.41611584818321,-61.93738037586553,12.640584825523462,-6.655460804790884,-11.904449556771985,5.728569418933459,1.9502988128932657,14.500317148551247,-5.497666384967186,21.171192462860656,1.9202468058594846,1.9502988128932657],\"type\":\"scatter\",\"hoverinfo\":\"text\"},{\"xaxis\":\"x1\",\"colorbar\":{\"title\":\"\"},\"yaxis\":\"y1\",\"text\":[null],\"x\":[40.54404859926191],\"showlegend\":true,\"mode\":\"markers\",\"name\":\"Bacterium 7\",\"zmin\":-0.1,\"legendgroup\":\"Bacterium 7\",\"marker\":{\"symbol\":\"circle\",\"color\":\"rgba(97, 141, 246, 1.000)\",\"line\":{\"color\":\"rgba(0, 0, 0, 1.000)\",\"width\":1},\"size\":8},\"zmax\":0.1,\"y\":[91.51787823680681],\"type\":\"scatter\",\"hoverinfo\":\"text\"},{\"xaxis\":\"x1\",\"colorbar\":{\"title\":\"\"},\"yaxis\":\"y1\",\"text\":[null,null,null,null,null,null,null,null,null,null,null,null,null,null,null,null,null,null,null,null,null,null,null,null,null,null,null,null,null,null,null,null,null,null,null],\"x\":[40.54404859926191,66.70719744663825,-12.861296233062433,23.218133654182488,36.92441848623678,-2.8985267795096945,-11.728627816756191,7.180487357592703,-0.2856643643459833,-0.963145777543998,-59.95154871908963,-78.18409195490412,-85.8107867042073,-38.92042027894733,-19.412951814262446,0.5383243165027594,33.750748391844375,18.653285788642727,0.30887322720447585,-9.124276847759402,-0.963145777543998,0.4074890950876835,-0.5281191582766169,-18.756911254436176,20.405232322203915,1.945209329569848,-0.5281191582766169,-84.76683913872533,-41.437562637328284,-53.950179475964674,4.902678736000091,11.535832922200488,-8.37063341053198,4.020244663664638,-0.5281191582766169],\"showlegend\":true,\"mode\":\"lines\",\"name\":\"Bacterium 7\",\"zmin\":-0.1,\"legendgroup\":\"Bacterium 7\",\"zmax\":0.1,\"line\":{\"color\":\"rgba(240, 96, 115, 1.000)\",\"shape\":\"linear\",\"dash\":\"solid\",\"width\":1},\"y\":[91.51787823680681,61.26081885572964,52.9629387925188,35.69230652235052,21.12735694802661,17.36796466185052,-0.5772106137498341,5.937800001990434,3.3120305730307145,2.3009541785405414,-79.95066188269874,-44.34765123536506,-25.858910683316875,-63.29276616875748,-67.70396488331622,-66.30876570256865,-16.339426232853135,-29.456843011507672,-21.489250666530026,-3.8536140275195443,2.3009541785405414,2.371888434488481,1.9502988128932657,-59.05082858329078,-50.90671963985031,6.182925227773644,1.9502988128932657,15.483744084630274,56.98764508038587,41.38526001112568,29.70874168234411,10.84074588146234,12.772739189884657,-2.926500936643551,1.9502988128932657],\"type\":\"scatter\",\"hoverinfo\":\"text\"},{\"xaxis\":\"x1\",\"colorbar\":{\"title\":\"\"},\"yaxis\":\"y1\",\"text\":[null],\"x\":[-60.3616380786145],\"showlegend\":true,\"mode\":\"markers\",\"name\":\"Bacterium 8\",\"zmin\":-0.1,\"legendgroup\":\"Bacterium 8\",\"marker\":{\"symbol\":\"circle\",\"color\":\"rgba(221, 101, 182, 1.000)\",\"line\":{\"color\":\"rgba(0, 0, 0, 1.000)\",\"width\":1},\"size\":8},\"zmax\":0.1,\"y\":[16.430936269267832],\"type\":\"scatter\",\"hoverinfo\":\"text\"},{\"xaxis\":\"x1\",\"colorbar\":{\"title\":\"\"},\"yaxis\":\"y1\",\"text\":[null,null,null,null,null,null,null,null,null,null,null,null,null,null,null,null,null,null,null],\"x\":[-60.3616380786145,-3.9917768948661703,-0.2856643643459833,-0.963145777543998,91.57278479111702,22.74768458816729,13.583946980280118,0.49707796921227043,-9.519649187721392,8.25296949209146,-0.963145777543998,0.4074890950876835,-0.5281191582766169,-15.20067061468606,-43.777972653480504,-50.38121945948424,-37.437625455008266,-22.568637098405503,-0.5281191582766169],\"showlegend\":true,\"mode\":\"lines\",\"name\":\"Bacterium 8\",\"zmin\":-0.1,\"legendgroup\":\"Bacterium 8\",\"zmax\":0.1,\"line\":{\"color\":\"rgba(108, 159, 51, 1.000)\",\"shape\":\"linear\",\"dash\":\"solid\",\"width\":1},\"y\":[16.430936269267832,-4.122378551581438,3.3120305730307145,2.3009541785405414,16.009468409713804,56.79065993293845,-2.5054268945562796,12.618522969389716,-4.69231690230766,4.480143250888277,2.3009541785405414,2.371888434488481,1.9502988128932657,-64.02436196395867,-36.03618931579325,-17.157706018160425,-32.40445564709096,4.729264678930932,1.9502988128932657],\"type\":\"scatter\",\"hoverinfo\":\"text\"},{\"xaxis\":\"x1\",\"colorbar\":{\"title\":\"\"},\"yaxis\":\"y1\",\"text\":[null],\"x\":[-38.57530388866959],\"showlegend\":true,\"mode\":\"markers\",\"name\":\"Bacterium 9\",\"zmin\":-0.1,\"legendgroup\":\"Bacterium 9\",\"marker\":{\"symbol\":\"circle\",\"color\":\"rgba(113, 140, 106, 1.000)\",\"line\":{\"color\":\"rgba(0, 0, 0, 1.000)\",\"width\":1},\"size\":8},\"zmax\":0.1,\"y\":[-93.04160778622364],\"type\":\"scatter\",\"hoverinfo\":\"text\"},{\"xaxis\":\"x1\",\"colorbar\":{\"title\":\"\"},\"yaxis\":\"y1\",\"text\":[null,null,null,null,null,null,null,null,null,null,null,null,null,null,null,null,null,null,null,null,null,null,null,null,null,null,null,null,null,null,null],\"x\":[-38.57530388866959,25.180653965413498,-3.959468726424017,-4.225258288081289,-0.2856643643459833,-0.963145777543998,69.62889164985035,82.81712260725658,54.14672591225943,4.7105543879865195,5.432862147682545,-0.963145777543998,0.4074890950876835,-0.5281191582766169,-8.687033075453911,-0.5281191582766169,-84.33879465931598,-5.440581980844634,14.29667407994246,-18.868778179205368,-28.202669470373877,-24.733380407596982,-27.147043263845273,-7.2087910065339,6.878853848210504,-0.5281191582766169,-29.8013438969476,7.757931103116995,12.796695121594418,1.9913661216321916,-0.5281191582766169],\"showlegend\":true,\"mode\":\"lines\",\"name\":\"Bacterium 9\",\"zmin\":-0.1,\"legendgroup\":\"Bacterium 9\",\"zmax\":0.1,\"line\":{\"color\":\"rgba(71, 153, 140, 1.000)\",\"shape\":\"linear\",\"dash\":\"solid\",\"width\":1},\"y\":[-93.04160778622364,-44.717929965631555,-17.316228385170234,2.682005434567799,3.3120305730307145,2.3009541785405414,58.09881816574239,20.33546868222713,48.22826978486823,-14.668987269972153,5.317965261624128,2.3009541785405414,2.371888434488481,1.9502988128932657,-2.9257228451712933,1.9502988128932657,56.58005107216968,69.81153005763093,66.58031926430236,44.21845940323118,5.322720904461825,-14.374081714209478,5.479739872990486,7.050121012656234,-7.146296227147388,1.9502988128932657,45.815209206075906,32.05654424651232,-7.624822377711915,9.205057752656671,1.9502988128932657],\"type\":\"scatter\",\"hoverinfo\":\"text\"},{\"xaxis\":\"x1\",\"colorbar\":{\"title\":\"\"},\"yaxis\":\"y1\",\"text\":[null],\"x\":[53.39333546194496],\"showlegend\":true,\"mode\":\"markers\",\"name\":\"Bacterium 10\",\"zmin\":-0.1,\"legendgroup\":\"Bacterium 10\",\"marker\":{\"symbol\":\"circle\",\"color\":\"rgba(31, 166, 141, 1.000)\",\"line\":{\"color\":\"rgba(0, 0, 0, 1.000)\",\"width\":1},\"size\":8},\"zmax\":0.1,\"y\":[-58.515366378805744],\"type\":\"scatter\",\"hoverinfo\":\"text\"},{\"xaxis\":\"x1\",\"colorbar\":{\"title\":\"\"},\"yaxis\":\"y1\",\"text\":[null,null,null,null,null,null,null,null,null,null,null,null,null,null,null,null,null,null,null,null,null,null,null,null,null,null,null,null,null,null],\"x\":[53.39333546194496,-6.606384027757983,25.905131083811014,14.676525511529645,4.527637602482491,-4.225258288081289,-0.2856643643459833,-0.963145777543998,0.4074890950876835,-0.5281191582766169,-80.9519299001198,-1.2709393712053512,-6.088521060956086,-0.5281191582766169,-32.516567757635954,13.634176138603504,8.690769162152634,-0.5281191582766169,-78.96895037545363,-24.327093195022314,-28.96233393613749,10.679056978100114,-6.700958263243113,-0.5281191582766169,-23.231939124191214,-3.241281643838704,14.817451142633839,-19.562608958943247,-0.9946554419390878,-0.5281191582766169],\"showlegend\":true,\"mode\":\"lines\",\"name\":\"Bacterium 10\",\"zmin\":-0.1,\"legendgroup\":\"Bacterium 10\",\"zmax\":0.1,\"line\":{\"color\":\"rgba(175, 120, 221, 1.000)\",\"shape\":\"linear\",\"dash\":\"solid\",\"width\":1},\"y\":[-58.515366378805744,-58.33189660756157,-7.903716141177291,8.646764725013025,-8.586925367639694,2.682005434567799,3.3120305730307145,2.3009541785405414,2.371888434488481,1.9502988128932657,52.80567254386264,45.668463822587455,5.959637263967295,1.9502988128932657,-57.87605935468649,-19.53406100009213,-0.15462015508380844,1.9502988128932657,-27.475934826319076,30.95579836612822,11.50034814589672,6.156180634992872,-3.740034308644777,1.9502988128932657,44.797840107865994,45.409079425340195,36.81360560787199,16.368276864808266,8.936513804109083,1.9502988128932657],\"type\":\"scatter\",\"hoverinfo\":\"text\"}], {\"showlegend\":true,\"xaxis\":{\"showticklabels\":true,\"gridwidth\":0.5,\"tickvals\":[-100.0,-50.0,0.0,50.0,100.0],\"visible\":true,\"ticks\":\"inside\",\"range\":[-106.0,106.0],\"domain\":[0.0658209390492855,0.9934383202099738],\"tickmode\":\"array\",\"linecolor\":\"rgba(0, 0, 0, 1.000)\",\"showgrid\":true,\"title\":\"\",\"mirror\":false,\"tickangle\":0,\"showline\":true,\"gridcolor\":\"rgba(0, 0, 0, 0.100)\",\"titlefont\":{\"color\":\"rgba(0, 0, 0, 1.000)\",\"family\":\"sans-serif\",\"size\":15},\"tickcolor\":\"rgb(0, 0, 0)\",\"ticktext\":[\"-100\",\"-50\",\"0\",\"50\",\"100\"],\"zeroline\":false,\"type\":\"-\",\"tickfont\":{\"color\":\"rgba(0, 0, 0, 1.000)\",\"family\":\"sans-serif\",\"size\":11},\"zerolinecolor\":\"rgba(0, 0, 0, 1.000)\",\"anchor\":\"y1\"},\"paper_bgcolor\":\"rgba(255, 255, 255, 1.000)\",\"annotations\":[],\"height\":400,\"margin\":{\"l\":0,\"b\":20,\"r\":0,\"t\":20},\"plot_bgcolor\":\"rgba(255, 255, 255, 1.000)\",\"yaxis\":{\"showticklabels\":true,\"gridwidth\":0.5,\"tickvals\":[-100.0,-50.0,0.0,50.0,100.0],\"visible\":true,\"ticks\":\"inside\",\"range\":[-106.0,106.0],\"domain\":[0.03762029746281716,0.9901574803149606],\"tickmode\":\"array\",\"linecolor\":\"rgba(0, 0, 0, 1.000)\",\"showgrid\":true,\"title\":\"\",\"mirror\":false,\"tickangle\":0,\"showline\":true,\"gridcolor\":\"rgba(0, 0, 0, 0.100)\",\"titlefont\":{\"color\":\"rgba(0, 0, 0, 1.000)\",\"family\":\"sans-serif\",\"size\":15},\"tickcolor\":\"rgb(0, 0, 0)\",\"ticktext\":[\"-100\",\"-50\",\"0\",\"50\",\"100\"],\"zeroline\":false,\"type\":\"-\",\"tickfont\":{\"color\":\"rgba(0, 0, 0, 1.000)\",\"family\":\"sans-serif\",\"size\":11},\"zerolinecolor\":\"rgba(0, 0, 0, 1.000)\",\"anchor\":\"x1\"},\"legend\":{\"tracegroupgap\":0,\"bordercolor\":\"rgba(0, 0, 0, 1.000)\",\"bgcolor\":\"rgba(255, 255, 255, 1.000)\",\"font\":{\"color\":\"rgba(0, 0, 0, 1.000)\",\"family\":\"sans-serif\",\"size\":11},\"y\":1.0,\"x\":1.0},\"width\":600});\n",
       "    </script>\n"
      ]
     },
     "execution_count": 16,
     "metadata": {},
     "output_type": "execute_result"
    }
   ],
   "source": [
    "## Plot the path of each bacterium\n",
    "using Plots\n",
    "plotly()\n",
    "S = length(keys(D[\"Path_Dict\"]))\n",
    "scatter(xlim = R, ylim = R)\n",
    "for i=1:S\n",
    "    Path_i = D[\"Path_Dict\"][i]\n",
    "    if size(Path_i,2)!=1\n",
    "        scatter!([Path_i[1,1]], [Path_i[2,1]], label = \"Bacterium $i\")\n",
    "        plot!(Path_i[1,:], Path_i[2,:], label = \"Bacterium $i\")\n",
    "    end\n",
    "end\n",
    "plot!()"
   ]
  },
  {
   "cell_type": "code",
   "execution_count": null,
   "metadata": {
    "collapsed": true
   },
   "outputs": [],
   "source": []
  },
  {
   "cell_type": "markdown",
   "metadata": {},
   "source": [
    "## Modify/Imporve BFO"
   ]
  },
  {
   "cell_type": "markdown",
   "metadata": {},
   "source": [
    "1. Allow \"Range\" as an n x 2 Array. The pth row is the range for the pth variable of J. \n",
    "2. Make the bacterial paths stay in Range."
   ]
  },
  {
   "cell_type": "markdown",
   "metadata": {},
   "source": [
    "Notations recap:\n",
    "1. **J** = a function with domain R^n\n",
    "2. **Range** = [-10,10], exploration range: Range^n <br><br>\n",
    "\n",
    "3. **n** = 2, dimension of the input of J\n",
    "4. **S** = 10, number of bacteria\n",
    "5. **Sr** = 4,  number of bacteria removed in reproductive step\n",
    "6. **Nc** = 20, number of chemotactic steps\n",
    "7. **Ns** = 5, number of swim steps\n",
    "8. **Nre** = 5, number of reproductive steps\n",
    "9. **Ned** = 2, elimination and dispersal steps\n",
    "10. **Ped** = 0.3, probability of elimination\n",
    "11. **Ci** = (Range[2]-Range[1])/S, the run-length unit"
   ]
  },
  {
   "cell_type": "code",
   "execution_count": 63,
   "metadata": {
    "collapsed": true
   },
   "outputs": [],
   "source": [
    "J(X) = sqrt(sum(X));"
   ]
  },
  {
   "cell_type": "code",
   "execution_count": 64,
   "metadata": {
    "collapsed": true
   },
   "outputs": [],
   "source": [
    "using LinearAlgebra # \"norm\"\n",
    "using StatsBase\n",
    "Range = [0 2;0 3]\n",
    "n = 2#::Int\n",
    "S = 10#::Int, \n",
    "Sr = 4#::Int, \n",
    "Nc = 20#::Int, \n",
    "Ns = 5#::Int\n",
    "Nre = 5#::Int\n",
    "Ned = 2#::Int\n",
    "Ped = 0.3#::Float64\n",
    "Ci = ((norm(Range[:,2]-Range[:,1]))/(2*S));#::Float64    "
   ]
  },
  {
   "cell_type": "code",
   "execution_count": null,
   "metadata": {
    "collapsed": true
   },
   "outputs": [],
   "source": []
  },
  {
   "cell_type": "code",
   "execution_count": 62,
   "metadata": {},
   "outputs": [
    {
     "name": "stdout",
     "output_type": "stream",
     "text": [
      "Chemo-step 1\n",
      "Chemo-step 2\n",
      "Chemo-step 3\n",
      "Chemo-step 4\n",
      "Chemo-step 5\n",
      "Chemo-step 6\n",
      "Chemo-step 7\n",
      "Chemo-step 8\n",
      "Chemo-step 9\n",
      "Chemo-step 10\n",
      "Chemo-step 11\n",
      "Chemo-step 12\n",
      "Chemo-step 13\n",
      "Chemo-step 14\n",
      "Chemo-step 15\n",
      "Chemo-step 16\n",
      "Chemo-step 17\n",
      "Chemo-step 18\n",
      "Chemo-step 19\n",
      "Chemo-step 20\n",
      "Repro-step 1\n",
      "Chemo-step 1\n",
      "Chemo-step 2\n",
      "Chemo-step 3\n",
      "Chemo-step 4\n",
      "Chemo-step 5\n",
      "Chemo-step 6\n",
      "Chemo-step 7\n",
      "Chemo-step 8\n",
      "Chemo-step 9\n",
      "Chemo-step 10\n",
      "Chemo-step 11\n",
      "Chemo-step 12\n",
      "Chemo-step 13\n",
      "Chemo-step 14\n",
      "Chemo-step 15\n",
      "Chemo-step 16\n",
      "Chemo-step 17\n",
      "Chemo-step 18\n",
      "Chemo-step 19\n",
      "Chemo-step 20\n",
      "Repro-step 2\n",
      "Chemo-step 1\n",
      "Chemo-step 2\n",
      "Chemo-step 3\n",
      "Chemo-step 4\n",
      "Chemo-step 5\n",
      "Chemo-step 6\n",
      "Chemo-step 7\n",
      "Chemo-step 8\n",
      "Chemo-step 9\n",
      "Chemo-step 10\n",
      "Chemo-step 11\n",
      "Chemo-step 12\n",
      "Chemo-step 13\n",
      "Chemo-step 14\n",
      "Chemo-step 15\n",
      "Chemo-step 16\n",
      "Chemo-step 17\n",
      "Chemo-step 18\n",
      "Chemo-step 19\n",
      "Chemo-step 20\n",
      "Repro-step 3\n",
      "Chemo-step 1\n",
      "Chemo-step 2\n",
      "Chemo-step 3\n",
      "Chemo-step 4\n",
      "Chemo-step 5\n",
      "Chemo-step 6\n",
      "Chemo-step 7\n",
      "Chemo-step 8\n",
      "Chemo-step 9\n",
      "Chemo-step 10\n",
      "Chemo-step 11\n",
      "Chemo-step 12\n",
      "Chemo-step 13\n",
      "Chemo-step 14\n",
      "Chemo-step 15\n",
      "Chemo-step 16\n",
      "Chemo-step 17\n",
      "Chemo-step 18\n",
      "Chemo-step 19\n",
      "Chemo-step 20\n",
      "Repro-step 4\n",
      "Chemo-step 1\n",
      "Chemo-step 2\n",
      "Chemo-step 3\n",
      "Chemo-step 4\n",
      "Chemo-step 5\n",
      "Chemo-step 6\n",
      "Chemo-step 7\n",
      "Chemo-step 8\n",
      "Chemo-step 9\n",
      "Chemo-step 10\n",
      "Chemo-step 11\n",
      "Chemo-step 12\n",
      "Chemo-step 13\n",
      "Chemo-step 14\n",
      "Chemo-step 15\n",
      "Chemo-step 16\n",
      "Chemo-step 17\n",
      "Chemo-step 18\n",
      "Chemo-step 19\n",
      "Chemo-step 20\n",
      "ED-step 1\n",
      "Chemo-step 1\n",
      "Chemo-step 2\n",
      "Chemo-step 3\n",
      "Chemo-step 4\n",
      "Chemo-step 5\n",
      "Chemo-step 6\n",
      "Chemo-step 7\n",
      "Chemo-step 8\n",
      "Chemo-step 9\n",
      "Chemo-step 10\n",
      "Chemo-step 11\n",
      "Chemo-step 12\n",
      "Chemo-step 13\n",
      "Chemo-step 14\n",
      "Chemo-step 15\n",
      "Chemo-step 16\n",
      "Chemo-step 17\n",
      "Chemo-step 18\n",
      "Chemo-step 19\n",
      "Chemo-step 20\n",
      "Repro-step 1\n",
      "Chemo-step 1\n",
      "Chemo-step 2\n",
      "Chemo-step 3\n",
      "Chemo-step 4\n",
      "Chemo-step 5\n",
      "Chemo-step 6\n",
      "Chemo-step 7\n",
      "Chemo-step 8\n",
      "Chemo-step 9\n",
      "Chemo-step 10\n",
      "Chemo-step 11\n",
      "Chemo-step 12\n",
      "Chemo-step 13\n",
      "Chemo-step 14\n",
      "Chemo-step 15\n",
      "Chemo-step 16\n",
      "Chemo-step 17\n",
      "Chemo-step 18\n",
      "Chemo-step 19\n",
      "Chemo-step 20\n",
      "Repro-step 2\n",
      "Chemo-step 1\n",
      "Chemo-step 2\n",
      "Chemo-step 3\n",
      "Chemo-step 4\n",
      "Chemo-step 5\n",
      "Chemo-step 6\n",
      "Chemo-step 7\n",
      "Chemo-step 8\n",
      "Chemo-step 9\n",
      "Chemo-step 10\n",
      "Chemo-step 11\n",
      "Chemo-step 12\n",
      "Chemo-step 13\n",
      "Chemo-step 14\n",
      "Chemo-step 15\n",
      "Chemo-step 16\n",
      "Chemo-step 17\n",
      "Chemo-step 18\n",
      "Chemo-step 19\n",
      "Chemo-step 20\n",
      "Repro-step 3\n",
      "Chemo-step 1\n",
      "Chemo-step 2\n",
      "Chemo-step 3\n",
      "Chemo-step 4\n",
      "Chemo-step 5\n",
      "Chemo-step 6\n",
      "Chemo-step 7\n",
      "Chemo-step 8\n",
      "Chemo-step 9\n",
      "Chemo-step 10\n",
      "Chemo-step 11\n",
      "Chemo-step 12\n",
      "Chemo-step 13\n",
      "Chemo-step 14\n",
      "Chemo-step 15\n",
      "Chemo-step 16\n",
      "Chemo-step 17\n",
      "Chemo-step 18\n",
      "Chemo-step 19\n",
      "Chemo-step 20\n",
      "Repro-step 4\n",
      "Chemo-step 1\n",
      "Chemo-step 2\n",
      "Chemo-step 3\n",
      "Chemo-step 4\n",
      "Chemo-step 5\n",
      "Chemo-step 6\n",
      "Chemo-step 7\n",
      "Chemo-step 8\n",
      "Chemo-step 9\n",
      "Chemo-step 10\n",
      "Chemo-step 11\n",
      "Chemo-step 12\n",
      "Chemo-step 13\n",
      "Chemo-step 14\n",
      "Chemo-step 15\n",
      "Chemo-step 16\n",
      "Chemo-step 17\n",
      "Chemo-step 18\n",
      "Chemo-step 19\n",
      "Chemo-step 20\n",
      "ED-step 2\n"
     ]
    },
    {
     "data": {
      "text/plain": [
       "Dict{String,Any} with 3 entries:\n",
       "  \"Path_Dict\"     => Dict(7=>[1.59505 1.4381 … 0.0535217 0.00548918; 0.640932 0…\n",
       "  \"Minimum Point\" => [0.00548918, 0.0867604]\n",
       "  \"Minimum\"       => 0.303726"
      ]
     },
     "execution_count": 62,
     "metadata": {},
     "output_type": "execute_result"
    }
   ],
   "source": [
    "    \n",
    "    ## randomly generate S bacteria in Range\n",
    "    Rand = rand(n,S) ## generate a random template\n",
    "    B_loc = zeros(n,S)  ## B_loc = Bacteria locations\n",
    "    for d = 1:n\n",
    "        B_loc[d,:] = (Range[d,2]-Range[d,1])*Rand[d,:].+Range[d,1]\n",
    "    end\n",
    "    B_loc\n",
    "    \n",
    "    ## a dictionary recording the path of bacterium i\n",
    "    Path_Dict = Dict(i=>[zeros(n,0) B_loc[:,i]] for i=1:S)\n",
    "    for l = 1:Ned ## index of elimination-dispersal steps\n",
    "        for k = 1:Nre ## index of reproductive steps\n",
    "            for j = 1:Nc ## index of chemotactic steps\n",
    "                ## Chemotactic Step\n",
    "                println(\"Chemo-step $j\")\n",
    "                ToSwim = collect(1:S) ## monitor the swimming bacteria\n",
    "                Tumble = RandUnit(n,S)\n",
    "                m = 0 ## index of swimming\n",
    "                while (ToSwim!=Array{Int64,1}())&(m<Ns) ## tumble/swim\n",
    "                    m = m + 1\n",
    "                    J_old = [J(B_loc[:,i]) for i in ToSwim]\n",
    "    \n",
    "                    B_loc_new = copy(B_loc)\n",
    "                    B_loc_new[:,ToSwim] = B_loc[:,ToSwim].+Ci*Tumble[:,ToSwim]\n",
    "                    ## Mirror back the out-of-range bacteria\n",
    "                    for d = 1:n\n",
    "                        ## mirror back bacteria tumbling out from below\n",
    "                        B_loc_new[d,ToSwim] = (abs.(B_loc_new[d,ToSwim].-Range[d,1])).+(Range[d,1]) \n",
    "                        ## mirror back bacteria tumbling out from above\n",
    "                        B_loc_new[d,ToSwim] = Range[d,2].-(abs.(Range[d,2].-B_loc_new[d,ToSwim]))\n",
    "                    end\n",
    "                    B_loc_new\n",
    "    \n",
    "                    ## Evaluate J at new locations\n",
    "                    J_new = [J(B_loc_new[:,i]) for i in ToSwim]\n",
    "    \n",
    "                    ## Find out improved bacteria and update the swimming ones\n",
    "                    ToSwim = ToSwim[findall(J_new.<J_old)]\n",
    "    \n",
    "                    for i in ToSwim\n",
    "                        Path_Dict[i] = [Path_Dict[i] B_loc_new[:,i]]\n",
    "                    end\n",
    "                    B_loc[:,ToSwim] = B_loc_new[:,ToSwim]\n",
    "                end ## end of tumble/swim\n",
    "            end ## end of chemotactic steps\n",
    "            \n",
    "            if k<Nre\n",
    "                ## Reproductive Step\n",
    "                println(\"Repro-step $k\")\n",
    "                ## (!!!) I define the health of a bacterium as the J value of its current location\n",
    "                Health = [J(B_loc[:,i]) for i=1:S]\n",
    "                Health_sort = sortslices([Health collect(1:S)], dims = 1) ## sort the bacteria according to health\n",
    "                B_survive = Array{Int,1}(Health_sort[1:S-Sr,2]) ## ## pick out the most healthy (S-Sr) bacteria\n",
    "                B_rep = sort([B_survive;B_survive[1:Sr]]) ## reproduce the most healthy Sr bacteria\n",
    "                B_loc = B_loc[:,B_rep]\n",
    "                \n",
    "                ## update the path dictionary\n",
    "                for i = 1:S\n",
    "                    if Path_Dict[i][:,end]!=B_loc[:,i]\n",
    "                        Path_Dict[i] = [Path_Dict[i] B_loc[:,i]]\n",
    "                    end\n",
    "                end\n",
    "            end\n",
    "        end\n",
    "        ## Elimination-Dispersal Step\n",
    "        println(\"ED-step $l\")\n",
    "        if l<Ned\n",
    "            KillAlive = [sample([false, true], aweights([Ped,1-Ped])) for i=1:S] # true = alive, false = kill\n",
    "            N_kill = S - sum(KillAlive) ## number of kiilled bacteria\n",
    "            ## randomly generate a bacterium for each killed bacterium\n",
    "            Alive = findall(KillAlive)\n",
    "            Kill = setdiff(collect(1:S),Alive)\n",
    "            ## Rebuild the killed bacteria in random locations in Range\n",
    "            ED = [Alive'; B_loc[:,Alive]]\n",
    "            for dead in Kill\n",
    "                Revive_dead = [dead;[(Range[d,2]-Range[d,1])*rand(1)[1]+Range[d,1] for d=1:n]]\n",
    "                ED = [ED Revive_dead]\n",
    "            end\n",
    "            B_loc = sortslices(ED, dims = 2)[2:n+1,:]\n",
    "            ## update the path dictionary\n",
    "            for i = 1:S\n",
    "                if (Path_Dict[i][:,end])!=B_loc[:,i]\n",
    "                    Path_Dict[i] = [Path_Dict[i] B_loc[:,i]]\n",
    "                end\n",
    "            end\n",
    "        end\n",
    "    end\n",
    "    B_best = Int(sortslices([[J(B_loc[:,i]) for i=1:S] collect(1:S)], dims = 1)[1,2]) ## best bacterium\n",
    "    X_best = B_loc[:,B_best] ## best location for minimizing J\n",
    "    J_best = J(X_best) ## best (minimum) J value\n",
    "    Dict(\"Minimum\"=>J_best, \"Minimum Point\"=>X_best, \"Path_Dict\"=>Path_Dict)\n"
   ]
  },
  {
   "cell_type": "code",
   "execution_count": 60,
   "metadata": {},
   "outputs": [
    {
     "data": {
      "text/plain": [
       "3-element Array{Float64,1}:\n",
       " 1.0               \n",
       " 1.637697225833576 \n",
       " 1.9784196189625658"
      ]
     },
     "execution_count": 60,
     "metadata": {},
     "output_type": "execute_result"
    }
   ],
   "source": [
    "[1;[(Range[d,2]-Range[d,1])*rand(1)[1]+Range[d,1] for d=1:n]]"
   ]
  },
  {
   "cell_type": "code",
   "execution_count": null,
   "metadata": {
    "collapsed": true
   },
   "outputs": [],
   "source": []
  }
 ],
 "metadata": {
  "kernelspec": {
   "display_name": "Julia 1.0.2",
   "language": "julia",
   "name": "julia-1.0"
  },
  "language_info": {
   "file_extension": ".jl",
   "mimetype": "application/julia",
   "name": "julia",
   "version": "1.0.2"
  }
 },
 "nbformat": 4,
 "nbformat_minor": 2
}
